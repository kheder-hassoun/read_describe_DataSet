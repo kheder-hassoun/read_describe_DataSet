{
 "cells": [
  {
   "cell_type": "markdown",
   "id": "14362254-dd3e-442d-b9e6-053f5bb3f2a9",
   "metadata": {},
   "source": [
    "kheder hassoun\n",
    "---"
   ]
  },
  {
   "cell_type": "markdown",
   "id": "0db978d4-8bfe-4e48-aa8f-36b2eca0f9f1",
   "metadata": {},
   "source": [
    "dataSet Link : https://www.kaggle.com/datasets/himanshunakrani/student-study-hours"
   ]
  },
  {
   "cell_type": "markdown",
   "id": "bde40c9c-2e33-41ff-8692-909402a1f3d9",
   "metadata": {},
   "source": [
    "-------------------------------------------------------------------"
   ]
  },
  {
   "cell_type": "markdown",
   "id": "d6d68297-eb20-4213-b074-28fc1d9dbf65",
   "metadata": {},
   "source": [
    "----------------------------------------"
   ]
  },
  {
   "cell_type": "markdown",
   "id": "b3762ba2-65d3-4cd3-a852-2f3fc01a387b",
   "metadata": {},
   "source": [
    "About my DataSet ❤\n",
    "--\n"
   ]
  },
  {
   "cell_type": "markdown",
   "id": "4eab1c64-07d9-4423-8c79-eaf3b951c449",
   "metadata": {},
   "source": [
    "The data set contains two columns. that is the number of hours student studied and the marks they got ."
   ]
  },
  {
   "cell_type": "markdown",
   "id": "fa19f490-6002-442a-aa9c-b5f68f12b952",
   "metadata": {},
   "source": [
    "for example:"
   ]
  },
  {
   "cell_type": "markdown",
   "id": "70c81dee-3e51-4ed8-abfe-876fb524b6d5",
   "metadata": {},
   "source": [
    "student studied 2.5 hours (two hours and half hour ) ==> then he got mark 21 (21/100) 😁😁"
   ]
  },
  {
   "cell_type": "markdown",
   "id": "28059064-12aa-4342-8649-e930b7f9d1c0",
   "metadata": {},
   "source": [
    "*******************************"
   ]
  },
  {
   "cell_type": "code",
   "execution_count": 1,
   "id": "e90fc353-27ff-4f25-bf41-eb00379efdbd",
   "metadata": {
    "scrolled": true
   },
   "outputs": [
    {
     "data": {
      "text/html": [
       "<div>\n",
       "<style scoped>\n",
       "    .dataframe tbody tr th:only-of-type {\n",
       "        vertical-align: middle;\n",
       "    }\n",
       "\n",
       "    .dataframe tbody tr th {\n",
       "        vertical-align: top;\n",
       "    }\n",
       "\n",
       "    .dataframe thead th {\n",
       "        text-align: right;\n",
       "    }\n",
       "</style>\n",
       "<table border=\"1\" class=\"dataframe\">\n",
       "  <thead>\n",
       "    <tr style=\"text-align: right;\">\n",
       "      <th></th>\n",
       "      <th>Hours</th>\n",
       "      <th>Scores</th>\n",
       "    </tr>\n",
       "  </thead>\n",
       "  <tbody>\n",
       "    <tr>\n",
       "      <th>0</th>\n",
       "      <td>2.5</td>\n",
       "      <td>21</td>\n",
       "    </tr>\n",
       "    <tr>\n",
       "      <th>1</th>\n",
       "      <td>5.1</td>\n",
       "      <td>47</td>\n",
       "    </tr>\n",
       "    <tr>\n",
       "      <th>2</th>\n",
       "      <td>3.2</td>\n",
       "      <td>27</td>\n",
       "    </tr>\n",
       "    <tr>\n",
       "      <th>3</th>\n",
       "      <td>8.5</td>\n",
       "      <td>75</td>\n",
       "    </tr>\n",
       "    <tr>\n",
       "      <th>4</th>\n",
       "      <td>3.5</td>\n",
       "      <td>30</td>\n",
       "    </tr>\n",
       "    <tr>\n",
       "      <th>5</th>\n",
       "      <td>1.5</td>\n",
       "      <td>20</td>\n",
       "    </tr>\n",
       "    <tr>\n",
       "      <th>6</th>\n",
       "      <td>9.2</td>\n",
       "      <td>88</td>\n",
       "    </tr>\n",
       "    <tr>\n",
       "      <th>7</th>\n",
       "      <td>5.5</td>\n",
       "      <td>60</td>\n",
       "    </tr>\n",
       "    <tr>\n",
       "      <th>8</th>\n",
       "      <td>8.3</td>\n",
       "      <td>81</td>\n",
       "    </tr>\n",
       "    <tr>\n",
       "      <th>9</th>\n",
       "      <td>2.7</td>\n",
       "      <td>25</td>\n",
       "    </tr>\n",
       "  </tbody>\n",
       "</table>\n",
       "</div>"
      ],
      "text/plain": [
       "   Hours  Scores\n",
       "0    2.5      21\n",
       "1    5.1      47\n",
       "2    3.2      27\n",
       "3    8.5      75\n",
       "4    3.5      30\n",
       "5    1.5      20\n",
       "6    9.2      88\n",
       "7    5.5      60\n",
       "8    8.3      81\n",
       "9    2.7      25"
      ]
     },
     "execution_count": 1,
     "metadata": {},
     "output_type": "execute_result"
    }
   ],
   "source": [
    "import pandas as pd\n",
    "df = pd.read_csv(\"C:\\\\Users\\\\kheder\\\\Desktop\\\\machin_laerning_ex\\\\my_dataset\\\\score_updated.csv\")\n",
    "df.head(10)"
   ]
  },
  {
   "cell_type": "markdown",
   "id": "cdf9b6fb-60f0-4cfa-9516-3c7e139e80a2",
   "metadata": {},
   "source": [
    "-------------------------------"
   ]
  },
  {
   "cell_type": "markdown",
   "id": "761312d3-d398-4560-816e-5e0d7b6681db",
   "metadata": {},
   "source": [
    "Now lets describe  my dataset 📉📑📰\n",
    "--"
   ]
  },
  {
   "cell_type": "code",
   "execution_count": 3,
   "id": "17db4094-58a5-4e29-aacb-d7144f599256",
   "metadata": {},
   "outputs": [
    {
     "data": {
      "text/html": [
       "<div>\n",
       "<style scoped>\n",
       "    .dataframe tbody tr th:only-of-type {\n",
       "        vertical-align: middle;\n",
       "    }\n",
       "\n",
       "    .dataframe tbody tr th {\n",
       "        vertical-align: top;\n",
       "    }\n",
       "\n",
       "    .dataframe thead th {\n",
       "        text-align: right;\n",
       "    }\n",
       "</style>\n",
       "<table border=\"1\" class=\"dataframe\">\n",
       "  <thead>\n",
       "    <tr style=\"text-align: right;\">\n",
       "      <th></th>\n",
       "      <th>Hours</th>\n",
       "      <th>Scores</th>\n",
       "    </tr>\n",
       "  </thead>\n",
       "  <tbody>\n",
       "    <tr>\n",
       "      <th>count</th>\n",
       "      <td>96.000000</td>\n",
       "      <td>96.000000</td>\n",
       "    </tr>\n",
       "    <tr>\n",
       "      <th>mean</th>\n",
       "      <td>5.267708</td>\n",
       "      <td>54.020833</td>\n",
       "    </tr>\n",
       "    <tr>\n",
       "      <th>std</th>\n",
       "      <td>2.503030</td>\n",
       "      <td>25.017459</td>\n",
       "    </tr>\n",
       "    <tr>\n",
       "      <th>min</th>\n",
       "      <td>1.000000</td>\n",
       "      <td>12.000000</td>\n",
       "    </tr>\n",
       "    <tr>\n",
       "      <th>25%</th>\n",
       "      <td>3.075000</td>\n",
       "      <td>30.750000</td>\n",
       "    </tr>\n",
       "    <tr>\n",
       "      <th>50%</th>\n",
       "      <td>5.250000</td>\n",
       "      <td>54.500000</td>\n",
       "    </tr>\n",
       "    <tr>\n",
       "      <th>75%</th>\n",
       "      <td>7.325000</td>\n",
       "      <td>74.250000</td>\n",
       "    </tr>\n",
       "    <tr>\n",
       "      <th>max</th>\n",
       "      <td>9.800000</td>\n",
       "      <td>99.000000</td>\n",
       "    </tr>\n",
       "  </tbody>\n",
       "</table>\n",
       "</div>"
      ],
      "text/plain": [
       "           Hours     Scores\n",
       "count  96.000000  96.000000\n",
       "mean    5.267708  54.020833\n",
       "std     2.503030  25.017459\n",
       "min     1.000000  12.000000\n",
       "25%     3.075000  30.750000\n",
       "50%     5.250000  54.500000\n",
       "75%     7.325000  74.250000\n",
       "max     9.800000  99.000000"
      ]
     },
     "execution_count": 3,
     "metadata": {},
     "output_type": "execute_result"
    }
   ],
   "source": [
    "df.describe()"
   ]
  },
  {
   "cell_type": "markdown",
   "id": "abfb1391-ac74-4f75-bd4d-04d5e373d138",
   "metadata": {},
   "source": [
    "-----------------------------------------"
   ]
  },
  {
   "cell_type": "markdown",
   "id": "d5722235-e24e-4059-ba94-c3528c5bb814",
   "metadata": {},
   "source": [
    "---------------------------"
   ]
  },
  {
   "cell_type": "code",
   "execution_count": 4,
   "id": "63bac623-994d-4aea-b70f-7372a1caad49",
   "metadata": {},
   "outputs": [
    {
     "data": {
      "text/plain": [
       "Index(['Hours', 'Scores'], dtype='object')"
      ]
     },
     "execution_count": 4,
     "metadata": {},
     "output_type": "execute_result"
    }
   ],
   "source": [
    "df.columns"
   ]
  },
  {
   "cell_type": "markdown",
   "id": "b08bce27-1850-4e45-be8f-2ee4ada87947",
   "metadata": {},
   "source": [
    "------------------------------------------------------------------------"
   ]
  },
  {
   "cell_type": "markdown",
   "id": "6ca106e3-b6bc-4811-89f0-155c28b82a3b",
   "metadata": {},
   "source": [
    "Hours: This column  contains numerical data representing the number of hours each student studied. It could be floating-point numbers (allowing decimals) or integers (whole numbers) depending on how the data was recorded.\n",
    "\n"
   ]
  },
  {
   "cell_type": "markdown",
   "id": "d6d734b3-161b-4d0a-92a7-721d0e027945",
   "metadata": {},
   "source": [
    "Scores: This column  contains numerical data representing the marks (grades) each student received. It could be integers representing points or percentages depending on your grading system."
   ]
  },
  {
   "cell_type": "code",
   "execution_count": 5,
   "id": "744975c8-83f7-4862-8d92-62dd2c3d3af9",
   "metadata": {},
   "outputs": [
    {
     "name": "stdout",
     "output_type": "stream",
     "text": [
      "count    96.000000\n",
      "mean      5.267708\n",
      "std       2.503030\n",
      "min       1.000000\n",
      "25%       3.075000\n",
      "50%       5.250000\n",
      "75%       7.325000\n",
      "max       9.800000\n",
      "Name: Hours, dtype: float64\n"
     ]
    }
   ],
   "source": [
    "print(df['Hours'].describe())"
   ]
  },
  {
   "cell_type": "markdown",
   "id": "da8fbde3-aa83-4e34-969e-d7034cbaf8aa",
   "metadata": {},
   "source": [
    "---------------------------------"
   ]
  },
  {
   "cell_type": "code",
   "execution_count": 6,
   "id": "b1016a05-91a3-4e69-ac53-3aaa053f1dfa",
   "metadata": {},
   "outputs": [
    {
     "name": "stdout",
     "output_type": "stream",
     "text": [
      "count    96.000000\n",
      "mean     54.020833\n",
      "std      25.017459\n",
      "min      12.000000\n",
      "25%      30.750000\n",
      "50%      54.500000\n",
      "75%      74.250000\n",
      "max      99.000000\n",
      "Name: Scores, dtype: float64\n"
     ]
    }
   ],
   "source": [
    "print(df['Scores'].describe())"
   ]
  },
  {
   "cell_type": "markdown",
   "id": "3bbad6c8-5f28-4e3c-b4fe-09f2fc7d721b",
   "metadata": {},
   "source": [
    "----------------------------------------------------"
   ]
  },
  {
   "cell_type": "markdown",
   "id": "a53b31d4-aa93-4ec5-bafb-6a4c8a34be2f",
   "metadata": {},
   "source": [
    "----------------------------------------------------"
   ]
  },
  {
   "cell_type": "markdown",
   "id": "8d553226-f11f-4c5b-8146-8aa7e8a73af4",
   "metadata": {},
   "source": [
    "Thanks 🥰\n",
    "--"
   ]
  },
  {
   "cell_type": "code",
   "execution_count": null,
   "id": "2d27364e-f345-4079-8b6b-0a2beab2e1d4",
   "metadata": {},
   "outputs": [],
   "source": []
  }
 ],
 "metadata": {
  "kernelspec": {
   "display_name": "Python 3 (ipykernel)",
   "language": "python",
   "name": "python3"
  },
  "language_info": {
   "codemirror_mode": {
    "name": "ipython",
    "version": 3
   },
   "file_extension": ".py",
   "mimetype": "text/x-python",
   "name": "python",
   "nbconvert_exporter": "python",
   "pygments_lexer": "ipython3",
   "version": "3.11.7"
  }
 },
 "nbformat": 4,
 "nbformat_minor": 5
}
